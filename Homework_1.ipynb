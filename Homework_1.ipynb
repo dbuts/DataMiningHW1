{
  "nbformat": 4,
  "nbformat_minor": 0,
  "metadata": {
    "colab": {
      "name": "Homework_1.ipynb",
      "provenance": [],
      "toc_visible": true
    },
    "kernelspec": {
      "name": "python37464bitbaseconda0a7221f645bd4932bf89337d95045a7e",
      "display_name": "Python 3.7.4 64-bit ('base': conda)"
    }
  },
  "cells": [
    {
      "cell_type": "markdown",
      "metadata": {
        "colab_type": "text",
        "id": "ekzzoVQaqFaI"
      },
      "source": [
        "## Excersises\n",
        "\n",
        "1.1\n",
        ">a) No because there's no analysis, just dividing.\n",
        " <br>b) No dividing isn't data mining.\n",
        " <br>c) No it's just summing all sales.\n",
        " <br>d) No that's just a simple sorting of data.\n",
        " <br>e) No because it's a simple mathematical equation for fair dice.\n",
        " <br>f) Yes because it's predicting an outcome based on previous data.\n",
        " <br>g) Yes because you're comparing against data of known good hearts.\n",
        " <br>h) Yes because you're comparing a stream of data against a known normal.\n",
        " <br>i) Yes because you're extracting meaningful data from noise.\n",
        "\n",
        "\n",
        "---\n",
        "\n",
        "\n",
        "2.2\n",
        ">a) Binary, qualitative (nominal)\n",
        " <br>b) Continuous, quantitative (ratio)\n",
        " <br>c) Discrete, qualitative (nominal)\n",
        " <br>d) Continuous, quantitative (ratio)\n",
        " <br>e) Discrete, qualitative (ordinal)\n",
        " <br>f) Continuous, qualitative (interval)\n",
        " <br>g) Discrete, quantitative (ratio)\n",
        " <br>h) Discrete, qualitative (ordinal)\n",
        " <br>i) Discrete, qualitative (ordinal)\n",
        " <br>j) Discrete, qualitative (oridnal)\n",
        " <br>k) Continuous, quantitative (interval)\n",
        " <br>l) Continuous, quantitative (ratio)\n",
        " <br>m) Discrete, qualitative (nominal)\n",
        "\n",
        "---\n",
        "\n",
        "\n",
        "2.7\n",
        "> Daily Temperature because the weather is continuous, warming slightly or cooling slightly it is more correlated to the previous temperature opposed to daily rainfall which varies wildy as rain one day is not necessarily related to rain the previous. A month in summer will stay consistenly warm while it may rain 2 days in a row and then be dry for the rest of the month.\n",
        "\n",
        "\n",
        "---\n",
        "\n",
        "\n",
        "2.15\n",
        ">Method A gets elements proportional to the amount in each group, like The House of Representatives where as the Method B disregards the size of each group like The Senate.\n",
        "\n",
        "\n",
        "---\n",
        "\n",
        "\n",
        "2.16\n",
        ">a) If a term is found in all documents, you have *tf*<sub>ij</sub> * Log(m/*df*<sub>i</sub> where m/*df*<sub>i</sub> is 1 and log(1) = 0 so the value goes to zero if the word is frequent and in every document.<br>A term not in every document is just proportional to it's frequency over number of documents it's in.\n",
        "<br>b) To find terms that signify the meaning of a particular paper, i.e. spaceship appearing many times in a paper about NASA accurately describes the context of the paper, whereas the word 'the' appears in almost every paper and it's significance to anything is almost always negligible.\n",
        "\n",
        "\n",
        "---\n",
        "\n",
        "\n",
        "2.17\n",
        ">a) Corresponding Interval: (a<sup>2</sup>, b<sup>2</sup>)\n",
        "<br>b) y = x<sup>2</sup>\n",
        "\n",
        "\n",
        "---\n",
        "\n",
        "\n",
        "2.18\n",
        ">a) Hamming: 3 bits are different<br>Jaccard: 2(10-5) = 0.4\n",
        "<br>b)Hamming, is like the Simple Matching Coefficient because the numerator is the same as the Hamming Distance.<br>Jaccard is similar to the Cosine Measure because both ignore zero matches.\n",
        "<br>c)We would want to use the Jaccard because it measures the similarity between two values whereas Hamming measures the difference between two values and cares about which parts are different.\n",
        "<br>d)We want to use the Hamming distance because we're trying to find the amount different in two very similar gene strings. Care more about difference than similarity in this case.\n",
        "\n",
        "\n",
        "---\n",
        "\n",
        "\n",
        "2.19\n",
        ">a) Cosine: 1, Correlation: 0/0, Euclidean = 2\n",
        "<br>b) Cosine: 0 Correlation: -1 Euclidean: 2 Jaccard: 0\n",
        "<br>c) Cosine: 0 Correlation: 0 Euclidean: 2\n",
        "<br>d) Cosine: 0.75 Correlation: 0.25 Jaccard: 0.6\n",
        "<br>e) Cosine: 0 Correlation: 0"
      ]
    },
    {
      "cell_type": "markdown",
      "metadata": {
        "colab_type": "text",
        "id": "yLedg9QeqC6v"
      },
      "source": [
        "# Practicum\n"
      ]
    },
    {
      "cell_type": "markdown",
      "metadata": {
        "colab_type": "text",
        "id": "1POlnKjCL9i9"
      },
      "source": [
        "## Problem 1"
      ]
    },
    {
      "cell_type": "code",
      "execution_count": 16,
      "metadata": {},
      "outputs": [
        {
          "data": {
            "image/png": "[encoded data removed]",
            "image/svg+xml": "<?xml version=\"1.0\" encoding=\"utf-8\" standalone=\"no\"?>\n<!DOCTYPE svg PUBLIC \"-//W3C//DTD SVG 1.1//EN\"\n  \"http://www.w3.org/Graphics/SVG/1.1/DTD/svg11.dtd\">\n<!-- Created with matplotlib (https://matplotlib.org/) -->\n<svg height=\"481.243125pt\" version=\"1.1\" viewBox=\"0 0 616.4875 481.243125\" width=\"616.4875pt\" xmlns=\"http://www.w3.org/2000/svg\" xmlns:xlink=\"http://www.w3.org/1999/xlink\">\n <defs>\n  <style type=\"text/css\">\n*{stroke-linecap:butt;stroke-linejoin:round;}\n  </style>\n </defs>\n <g id=\"figure_1\">\n  <g id=\"patch_1\">\n   <path d=\"M 0 481.243125 \nL 616.4875 481.243125 \nL 616.4875 0 \nL 0 0 \nz\n\" style=\"fill:none;\"/>\n  </g>\n  <g id=\"axes_1\">\n   <g id=\"patch_2\">\n    <path d=\"M 33.2875 454.318125 \nL 283.722283 454.318125 \nL 283.722283 22.318125 \nL 33.2875 22.318125 \nz\n\" style=\"fill:#ffffff;\"/>\n   </g>\n   <g id=\"patch_3\">\n    <path clip-path=\"url(#p9957e8414c)\" d=\"M 44.670899 454.318125 \nL 70.607758 454.318125 \nL 70.607758 371.394537 \nL 44.670899 371.394537 \nz\n\" style=\"fill:#1f77b4;\"/>\n   </g>\n   <g id=\"patch_4\">\n    <path clip-path=\"url(#p9957e8414c)\" d=\"M 73.489631 454.318125 \nL 99.42649 454.318125 \nL 99.42649 266.145368 \nL 73.489631 266.145368 \nz\n\" style=\"fill:#1f77b4;\"/>\n   </g>\n   <g id=\"patch_5\">\n    <path clip-path=\"url(#p9957e8414c)\" d=\"M 102.308364 454.318125 \nL 128.245223 454.318125 \nL 128.245223 42.889554 \nL 102.308364 42.889554 \nz\n\" style=\"fill:#1f77b4;\"/>\n   </g>\n   <g id=\"patch_6\">\n    <path clip-path=\"url(#p9957e8414c)\" d=\"M 131.127096 454.318125 \nL 157.063955 454.318125 \nL 157.063955 157.706829 \nL 131.127096 157.706829 \nz\n\" style=\"fill:#1f77b4;\"/>\n   </g>\n   <g id=\"patch_7\">\n    <path clip-path=\"url(#p9957e8414c)\" d=\"M 159.945828 454.318125 \nL 185.882687 454.318125 \nL 185.882687 272.524105 \nL 159.945828 272.524105 \nz\n\" style=\"fill:#1f77b4;\"/>\n   </g>\n   <g id=\"patch_8\">\n    <path clip-path=\"url(#p9957e8414c)\" d=\"M 188.76456 454.318125 \nL 214.701419 454.318125 \nL 214.701419 349.068956 \nL 188.76456 349.068956 \nz\n\" style=\"fill:#1f77b4;\"/>\n   </g>\n   <g id=\"patch_9\">\n    <path clip-path=\"url(#p9957e8414c)\" d=\"M 217.583292 454.318125 \nL 243.520151 454.318125 \nL 243.520151 400.098856 \nL 217.583292 400.098856 \nz\n\" style=\"fill:#1f77b4;\"/>\n   </g>\n   <g id=\"patch_10\">\n    <path clip-path=\"url(#p9957e8414c)\" d=\"M 246.402024 454.318125 \nL 272.338883 454.318125 \nL 272.338883 422.424437 \nL 246.402024 422.424437 \nz\n\" style=\"fill:#1f77b4;\"/>\n   </g>\n   <g id=\"matplotlib.axis_1\">\n    <g id=\"xtick_1\">\n     <g id=\"line2d_1\">\n      <defs>\n       <path d=\"M 0 0 \nL 0 3.5 \n\" id=\"mc49944bacc\" style=\"stroke:#000000;stroke-width:0.8;\"/>\n      </defs>\n      <g>\n       <use style=\"stroke:#000000;stroke-width:0.8;\" x=\"40.071745\" xlink:href=\"#mc49944bacc\" y=\"454.318125\"/>\n      </g>\n     </g>\n     <g id=\"text_1\">\n      <!-- 0 -->\n      <defs>\n       <path d=\"M 31.78125 66.40625 \nQ 24.171875 66.40625 20.328125 58.90625 \nQ 16.5 51.421875 16.5 36.375 \nQ 16.5 21.390625 20.328125 13.890625 \nQ 24.171875 6.390625 31.78125 6.390625 \nQ 39.453125 6.390625 43.28125 13.890625 \nQ 47.125 21.390625 47.125 36.375 \nQ 47.125 51.421875 43.28125 58.90625 \nQ 39.453125 66.40625 31.78125 66.40625 \nz\nM 31.78125 74.21875 \nQ 44.046875 74.21875 50.515625 64.515625 \nQ 56.984375 54.828125 56.984375 36.375 \nQ 56.984375 17.96875 50.515625 8.265625 \nQ 44.046875 -1.421875 31.78125 -1.421875 \nQ 19.53125 -1.421875 13.0625 8.265625 \nQ 6.59375 17.96875 6.59375 36.375 \nQ 6.59375 54.828125 13.0625 64.515625 \nQ 19.53125 74.21875 31.78125 74.21875 \nz\n\" id=\"DejaVuSans-48\"/>\n      </defs>\n      <g transform=\"translate(42.83112 467.680625)rotate(-90)scale(0.1 -0.1)\">\n       <use xlink:href=\"#DejaVuSans-48\"/>\n      </g>\n     </g>\n    </g>\n    <g id=\"xtick_2\">\n     <g id=\"line2d_2\">\n      <g>\n       <use style=\"stroke:#000000;stroke-width:0.8;\" x=\"71.653918\" xlink:href=\"#mc49944bacc\" y=\"454.318125\"/>\n      </g>\n     </g>\n     <g id=\"text_2\">\n      <!-- 10 -->\n      <defs>\n       <path d=\"M 12.40625 8.296875 \nL 28.515625 8.296875 \nL 28.515625 63.921875 \nL 10.984375 60.40625 \nL 10.984375 69.390625 \nL 28.421875 72.90625 \nL 38.28125 72.90625 \nL 38.28125 8.296875 \nL 54.390625 8.296875 \nL 54.390625 0 \nL 12.40625 0 \nz\n\" id=\"DejaVuSans-49\"/>\n      </defs>\n      <g transform=\"translate(74.413293 474.043125)rotate(-90)scale(0.1 -0.1)\">\n       <use xlink:href=\"#DejaVuSans-49\"/>\n       <use x=\"63.623047\" xlink:href=\"#DejaVuSans-48\"/>\n      </g>\n     </g>\n    </g>\n    <g id=\"xtick_3\">\n     <g id=\"line2d_3\">\n      <g>\n       <use style=\"stroke:#000000;stroke-width:0.8;\" x=\"103.23609\" xlink:href=\"#mc49944bacc\" y=\"454.318125\"/>\n      </g>\n     </g>\n     <g id=\"text_3\">\n      <!-- 20 -->\n      <defs>\n       <path d=\"M 19.1875 8.296875 \nL 53.609375 8.296875 \nL 53.609375 0 \nL 7.328125 0 \nL 7.328125 8.296875 \nQ 12.9375 14.109375 22.625 23.890625 \nQ 32.328125 33.6875 34.8125 36.53125 \nQ 39.546875 41.84375 41.421875 45.53125 \nQ 43.3125 49.21875 43.3125 52.78125 \nQ 43.3125 58.59375 39.234375 62.25 \nQ 35.15625 65.921875 28.609375 65.921875 \nQ 23.96875 65.921875 18.8125 64.3125 \nQ 13.671875 62.703125 7.8125 59.421875 \nL 7.8125 69.390625 \nQ 13.765625 71.78125 18.9375 73 \nQ 24.125 74.21875 28.421875 74.21875 \nQ 39.75 74.21875 46.484375 68.546875 \nQ 53.21875 62.890625 53.21875 53.421875 \nQ 53.21875 48.921875 51.53125 44.890625 \nQ 49.859375 40.875 45.40625 35.40625 \nQ 44.1875 33.984375 37.640625 27.21875 \nQ 31.109375 20.453125 19.1875 8.296875 \nz\n\" id=\"DejaVuSans-50\"/>\n      </defs>\n      <g transform=\"translate(105.995465 474.043125)rotate(-90)scale(0.1 -0.1)\">\n       <use xlink:href=\"#DejaVuSans-50\"/>\n       <use x=\"63.623047\" xlink:href=\"#DejaVuSans-48\"/>\n      </g>\n     </g>\n    </g>\n    <g id=\"xtick_4\">\n     <g id=\"line2d_4\">\n      <g>\n       <use style=\"stroke:#000000;stroke-width:0.8;\" x=\"134.818262\" xlink:href=\"#mc49944bacc\" y=\"454.318125\"/>\n      </g>\n     </g>\n     <g id=\"text_4\">\n      <!-- 30 -->\n      <defs>\n       <path d=\"M 40.578125 39.3125 \nQ 47.65625 37.796875 51.625 33 \nQ 55.609375 28.21875 55.609375 21.1875 \nQ 55.609375 10.40625 48.1875 4.484375 \nQ 40.765625 -1.421875 27.09375 -1.421875 \nQ 22.515625 -1.421875 17.65625 -0.515625 \nQ 12.796875 0.390625 7.625 2.203125 \nL 7.625 11.71875 \nQ 11.71875 9.328125 16.59375 8.109375 \nQ 21.484375 6.890625 26.8125 6.890625 \nQ 36.078125 6.890625 40.9375 10.546875 \nQ 45.796875 14.203125 45.796875 21.1875 \nQ 45.796875 27.640625 41.28125 31.265625 \nQ 36.765625 34.90625 28.71875 34.90625 \nL 20.21875 34.90625 \nL 20.21875 43.015625 \nL 29.109375 43.015625 \nQ 36.375 43.015625 40.234375 45.921875 \nQ 44.09375 48.828125 44.09375 54.296875 \nQ 44.09375 59.90625 40.109375 62.90625 \nQ 36.140625 65.921875 28.71875 65.921875 \nQ 24.65625 65.921875 20.015625 65.03125 \nQ 15.375 64.15625 9.8125 62.3125 \nL 9.8125 71.09375 \nQ 15.4375 72.65625 20.34375 73.4375 \nQ 25.25 74.21875 29.59375 74.21875 \nQ 40.828125 74.21875 47.359375 69.109375 \nQ 53.90625 64.015625 53.90625 55.328125 \nQ 53.90625 49.265625 50.4375 45.09375 \nQ 46.96875 40.921875 40.578125 39.3125 \nz\n\" id=\"DejaVuSans-51\"/>\n      </defs>\n      <g transform=\"translate(137.577637 474.043125)rotate(-90)scale(0.1 -0.1)\">\n       <use xlink:href=\"#DejaVuSans-51\"/>\n       <use x=\"63.623047\" xlink:href=\"#DejaVuSans-48\"/>\n      </g>\n     </g>\n    </g>\n    <g id=\"xtick_5\">\n     <g id=\"line2d_5\">\n      <g>\n       <use style=\"stroke:#000000;stroke-width:0.8;\" x=\"166.400434\" xlink:href=\"#mc49944bacc\" y=\"454.318125\"/>\n      </g>\n     </g>\n     <g id=\"text_5\">\n      <!-- 40 -->\n      <defs>\n       <path d=\"M 37.796875 64.3125 \nL 12.890625 25.390625 \nL 37.796875 25.390625 \nz\nM 35.203125 72.90625 \nL 47.609375 72.90625 \nL 47.609375 25.390625 \nL 58.015625 25.390625 \nL 58.015625 17.1875 \nL 47.609375 17.1875 \nL 47.609375 0 \nL 37.796875 0 \nL 37.796875 17.1875 \nL 4.890625 17.1875 \nL 4.890625 26.703125 \nz\n\" id=\"DejaVuSans-52\"/>\n      </defs>\n      <g transform=\"translate(169.159809 474.043125)rotate(-90)scale(0.1 -0.1)\">\n       <use xlink:href=\"#DejaVuSans-52\"/>\n       <use x=\"63.623047\" xlink:href=\"#DejaVuSans-48\"/>\n      </g>\n     </g>\n    </g>\n    <g id=\"xtick_6\">\n     <g id=\"line2d_6\">\n      <g>\n       <use style=\"stroke:#000000;stroke-width:0.8;\" x=\"197.982607\" xlink:href=\"#mc49944bacc\" y=\"454.318125\"/>\n      </g>\n     </g>\n     <g id=\"text_6\">\n      <!-- 50 -->\n      <defs>\n       <path d=\"M 10.796875 72.90625 \nL 49.515625 72.90625 \nL 49.515625 64.59375 \nL 19.828125 64.59375 \nL 19.828125 46.734375 \nQ 21.96875 47.46875 24.109375 47.828125 \nQ 26.265625 48.1875 28.421875 48.1875 \nQ 40.625 48.1875 47.75 41.5 \nQ 54.890625 34.8125 54.890625 23.390625 \nQ 54.890625 11.625 47.5625 5.09375 \nQ 40.234375 -1.421875 26.90625 -1.421875 \nQ 22.3125 -1.421875 17.546875 -0.640625 \nQ 12.796875 0.140625 7.71875 1.703125 \nL 7.71875 11.625 \nQ 12.109375 9.234375 16.796875 8.0625 \nQ 21.484375 6.890625 26.703125 6.890625 \nQ 35.15625 6.890625 40.078125 11.328125 \nQ 45.015625 15.765625 45.015625 23.390625 \nQ 45.015625 31 40.078125 35.4375 \nQ 35.15625 39.890625 26.703125 39.890625 \nQ 22.75 39.890625 18.8125 39.015625 \nQ 14.890625 38.140625 10.796875 36.28125 \nz\n\" id=\"DejaVuSans-53\"/>\n      </defs>\n      <g transform=\"translate(200.741982 474.043125)rotate(-90)scale(0.1 -0.1)\">\n       <use xlink:href=\"#DejaVuSans-53\"/>\n       <use x=\"63.623047\" xlink:href=\"#DejaVuSans-48\"/>\n      </g>\n     </g>\n    </g>\n    <g id=\"xtick_7\">\n     <g id=\"line2d_7\">\n      <g>\n       <use style=\"stroke:#000000;stroke-width:0.8;\" x=\"229.564779\" xlink:href=\"#mc49944bacc\" y=\"454.318125\"/>\n      </g>\n     </g>\n     <g id=\"text_7\">\n      <!-- 60 -->\n      <defs>\n       <path d=\"M 33.015625 40.375 \nQ 26.375 40.375 22.484375 35.828125 \nQ 18.609375 31.296875 18.609375 23.390625 \nQ 18.609375 15.53125 22.484375 10.953125 \nQ 26.375 6.390625 33.015625 6.390625 \nQ 39.65625 6.390625 43.53125 10.953125 \nQ 47.40625 15.53125 47.40625 23.390625 \nQ 47.40625 31.296875 43.53125 35.828125 \nQ 39.65625 40.375 33.015625 40.375 \nz\nM 52.59375 71.296875 \nL 52.59375 62.3125 \nQ 48.875 64.0625 45.09375 64.984375 \nQ 41.3125 65.921875 37.59375 65.921875 \nQ 27.828125 65.921875 22.671875 59.328125 \nQ 17.53125 52.734375 16.796875 39.40625 \nQ 19.671875 43.65625 24.015625 45.921875 \nQ 28.375 48.1875 33.59375 48.1875 \nQ 44.578125 48.1875 50.953125 41.515625 \nQ 57.328125 34.859375 57.328125 23.390625 \nQ 57.328125 12.15625 50.6875 5.359375 \nQ 44.046875 -1.421875 33.015625 -1.421875 \nQ 20.359375 -1.421875 13.671875 8.265625 \nQ 6.984375 17.96875 6.984375 36.375 \nQ 6.984375 53.65625 15.1875 63.9375 \nQ 23.390625 74.21875 37.203125 74.21875 \nQ 40.921875 74.21875 44.703125 73.484375 \nQ 48.484375 72.75 52.59375 71.296875 \nz\n\" id=\"DejaVuSans-54\"/>\n      </defs>\n      <g transform=\"translate(232.324154 474.043125)rotate(-90)scale(0.1 -0.1)\">\n       <use xlink:href=\"#DejaVuSans-54\"/>\n       <use x=\"63.623047\" xlink:href=\"#DejaVuSans-48\"/>\n      </g>\n     </g>\n    </g>\n    <g id=\"xtick_8\">\n     <g id=\"line2d_8\">\n      <g>\n       <use style=\"stroke:#000000;stroke-width:0.8;\" x=\"261.146951\" xlink:href=\"#mc49944bacc\" y=\"454.318125\"/>\n      </g>\n     </g>\n     <g id=\"text_8\">\n      <!-- 70 -->\n      <defs>\n       <path d=\"M 8.203125 72.90625 \nL 55.078125 72.90625 \nL 55.078125 68.703125 \nL 28.609375 0 \nL 18.3125 0 \nL 43.21875 64.59375 \nL 8.203125 64.59375 \nz\n\" id=\"DejaVuSans-55\"/>\n      </defs>\n      <g transform=\"translate(263.906326 474.043125)rotate(-90)scale(0.1 -0.1)\">\n       <use xlink:href=\"#DejaVuSans-55\"/>\n       <use x=\"63.623047\" xlink:href=\"#DejaVuSans-48\"/>\n      </g>\n     </g>\n    </g>\n   </g>\n   <g id=\"matplotlib.axis_2\">\n    <g id=\"ytick_1\">\n     <g id=\"line2d_9\">\n      <defs>\n       <path d=\"M 0 0 \nL -3.5 0 \n\" id=\"m85ebb3954f\" style=\"stroke:#000000;stroke-width:0.8;\"/>\n      </defs>\n      <g>\n       <use style=\"stroke:#000000;stroke-width:0.8;\" x=\"33.2875\" xlink:href=\"#m85ebb3954f\" y=\"454.318125\"/>\n      </g>\n     </g>\n     <g id=\"text_9\">\n      <!-- 0 -->\n      <g transform=\"translate(19.925 458.117344)scale(0.1 -0.1)\">\n       <use xlink:href=\"#DejaVuSans-48\"/>\n      </g>\n     </g>\n    </g>\n    <g id=\"ytick_2\">\n     <g id=\"line2d_10\">\n      <g>\n       <use style=\"stroke:#000000;stroke-width:0.8;\" x=\"33.2875\" xlink:href=\"#m85ebb3954f\" y=\"390.53075\"/>\n      </g>\n     </g>\n     <g id=\"text_10\">\n      <!-- 20 -->\n      <g transform=\"translate(13.5625 394.329968)scale(0.1 -0.1)\">\n       <use xlink:href=\"#DejaVuSans-50\"/>\n       <use x=\"63.623047\" xlink:href=\"#DejaVuSans-48\"/>\n      </g>\n     </g>\n    </g>\n    <g id=\"ytick_3\">\n     <g id=\"line2d_11\">\n      <g>\n       <use style=\"stroke:#000000;stroke-width:0.8;\" x=\"33.2875\" xlink:href=\"#m85ebb3954f\" y=\"326.743374\"/>\n      </g>\n     </g>\n     <g id=\"text_11\">\n      <!-- 40 -->\n      <g transform=\"translate(13.5625 330.542593)scale(0.1 -0.1)\">\n       <use xlink:href=\"#DejaVuSans-52\"/>\n       <use x=\"63.623047\" xlink:href=\"#DejaVuSans-48\"/>\n      </g>\n     </g>\n    </g>\n    <g id=\"ytick_4\">\n     <g id=\"line2d_12\">\n      <g>\n       <use style=\"stroke:#000000;stroke-width:0.8;\" x=\"33.2875\" xlink:href=\"#m85ebb3954f\" y=\"262.955999\"/>\n      </g>\n     </g>\n     <g id=\"text_12\">\n      <!-- 60 -->\n      <g transform=\"translate(13.5625 266.755218)scale(0.1 -0.1)\">\n       <use xlink:href=\"#DejaVuSans-54\"/>\n       <use x=\"63.623047\" xlink:href=\"#DejaVuSans-48\"/>\n      </g>\n     </g>\n    </g>\n    <g id=\"ytick_5\">\n     <g id=\"line2d_13\">\n      <g>\n       <use style=\"stroke:#000000;stroke-width:0.8;\" x=\"33.2875\" xlink:href=\"#m85ebb3954f\" y=\"199.168623\"/>\n      </g>\n     </g>\n     <g id=\"text_13\">\n      <!-- 80 -->\n      <defs>\n       <path d=\"M 31.78125 34.625 \nQ 24.75 34.625 20.71875 30.859375 \nQ 16.703125 27.09375 16.703125 20.515625 \nQ 16.703125 13.921875 20.71875 10.15625 \nQ 24.75 6.390625 31.78125 6.390625 \nQ 38.8125 6.390625 42.859375 10.171875 \nQ 46.921875 13.96875 46.921875 20.515625 \nQ 46.921875 27.09375 42.890625 30.859375 \nQ 38.875 34.625 31.78125 34.625 \nz\nM 21.921875 38.8125 \nQ 15.578125 40.375 12.03125 44.71875 \nQ 8.5 49.078125 8.5 55.328125 \nQ 8.5 64.0625 14.71875 69.140625 \nQ 20.953125 74.21875 31.78125 74.21875 \nQ 42.671875 74.21875 48.875 69.140625 \nQ 55.078125 64.0625 55.078125 55.328125 \nQ 55.078125 49.078125 51.53125 44.71875 \nQ 48 40.375 41.703125 38.8125 \nQ 48.828125 37.15625 52.796875 32.3125 \nQ 56.78125 27.484375 56.78125 20.515625 \nQ 56.78125 9.90625 50.3125 4.234375 \nQ 43.84375 -1.421875 31.78125 -1.421875 \nQ 19.734375 -1.421875 13.25 4.234375 \nQ 6.78125 9.90625 6.78125 20.515625 \nQ 6.78125 27.484375 10.78125 32.3125 \nQ 14.796875 37.15625 21.921875 38.8125 \nz\nM 18.3125 54.390625 \nQ 18.3125 48.734375 21.84375 45.5625 \nQ 25.390625 42.390625 31.78125 42.390625 \nQ 38.140625 42.390625 41.71875 45.5625 \nQ 45.3125 48.734375 45.3125 54.390625 \nQ 45.3125 60.0625 41.71875 63.234375 \nQ 38.140625 66.40625 31.78125 66.40625 \nQ 25.390625 66.40625 21.84375 63.234375 \nQ 18.3125 60.0625 18.3125 54.390625 \nz\n\" id=\"DejaVuSans-56\"/>\n      </defs>\n      <g transform=\"translate(13.5625 202.967842)scale(0.1 -0.1)\">\n       <use xlink:href=\"#DejaVuSans-56\"/>\n       <use x=\"63.623047\" xlink:href=\"#DejaVuSans-48\"/>\n      </g>\n     </g>\n    </g>\n    <g id=\"ytick_6\">\n     <g id=\"line2d_14\">\n      <g>\n       <use style=\"stroke:#000000;stroke-width:0.8;\" x=\"33.2875\" xlink:href=\"#m85ebb3954f\" y=\"135.381248\"/>\n      </g>\n     </g>\n     <g id=\"text_14\">\n      <!-- 100 -->\n      <g transform=\"translate(7.2 139.180467)scale(0.1 -0.1)\">\n       <use xlink:href=\"#DejaVuSans-49\"/>\n       <use x=\"63.623047\" xlink:href=\"#DejaVuSans-48\"/>\n       <use x=\"127.246094\" xlink:href=\"#DejaVuSans-48\"/>\n      </g>\n     </g>\n    </g>\n    <g id=\"ytick_7\">\n     <g id=\"line2d_15\">\n      <g>\n       <use style=\"stroke:#000000;stroke-width:0.8;\" x=\"33.2875\" xlink:href=\"#m85ebb3954f\" y=\"71.593873\"/>\n      </g>\n     </g>\n     <g id=\"text_15\">\n      <!-- 120 -->\n      <g transform=\"translate(7.2 75.393091)scale(0.1 -0.1)\">\n       <use xlink:href=\"#DejaVuSans-49\"/>\n       <use x=\"63.623047\" xlink:href=\"#DejaVuSans-50\"/>\n       <use x=\"127.246094\" xlink:href=\"#DejaVuSans-48\"/>\n      </g>\n     </g>\n    </g>\n   </g>\n   <g id=\"patch_11\">\n    <path d=\"M 33.2875 454.318125 \nL 33.2875 22.318125 \n\" style=\"fill:none;stroke:#000000;stroke-linecap:square;stroke-linejoin:miter;stroke-width:0.8;\"/>\n   </g>\n   <g id=\"patch_12\">\n    <path d=\"M 283.722283 454.318125 \nL 283.722283 22.318125 \n\" style=\"fill:none;stroke:#000000;stroke-linecap:square;stroke-linejoin:miter;stroke-width:0.8;\"/>\n   </g>\n   <g id=\"patch_13\">\n    <path d=\"M 33.2875 454.318125 \nL 283.722283 454.318125 \n\" style=\"fill:none;stroke:#000000;stroke-linecap:square;stroke-linejoin:miter;stroke-width:0.8;\"/>\n   </g>\n   <g id=\"patch_14\">\n    <path d=\"M 33.2875 22.318125 \nL 283.722283 22.318125 \n\" style=\"fill:none;stroke:#000000;stroke-linecap:square;stroke-linejoin:miter;stroke-width:0.8;\"/>\n   </g>\n   <g id=\"text_16\">\n    <!-- 0 -->\n    <g transform=\"translate(154.687391 16.318125)scale(0.12 -0.12)\">\n     <use xlink:href=\"#DejaVuSans-48\"/>\n    </g>\n   </g>\n  </g>\n  <g id=\"axes_2\">\n   <g id=\"patch_15\">\n    <path d=\"M 358.852717 454.318125 \nL 609.2875 454.318125 \nL 609.2875 22.318125 \nL 358.852717 22.318125 \nz\n\" style=\"fill:#ffffff;\"/>\n   </g>\n   <g id=\"patch_16\">\n    <path clip-path=\"url(#p77c59eee66)\" d=\"M 370.236117 454.318125 \nL 396.172976 454.318125 \nL 396.172976 268.195676 \nL 370.236117 268.195676 \nz\n\" style=\"fill:#1f77b4;\"/>\n   </g>\n   <g id=\"patch_17\">\n    <path clip-path=\"url(#p77c59eee66)\" d=\"M 399.054849 454.318125 \nL 424.991708 454.318125 \nL 424.991708 238.807921 \nL 399.054849 238.807921 \nz\n\" style=\"fill:#1f77b4;\"/>\n   </g>\n   <g id=\"patch_18\">\n    <path clip-path=\"url(#p77c59eee66)\" d=\"M 427.873581 454.318125 \nL 453.81044 454.318125 \nL 453.81044 42.889554 \nL 427.873581 42.889554 \nz\n\" style=\"fill:#1f77b4;\"/>\n   </g>\n   <g id=\"patch_19\">\n    <path clip-path=\"url(#p77c59eee66)\" d=\"M 456.692313 454.318125 \nL 482.629172 454.318125 \nL 482.629172 116.358941 \nL 456.692313 116.358941 \nz\n\" style=\"fill:#1f77b4;\"/>\n   </g>\n   <g id=\"patch_20\">\n    <path clip-path=\"url(#p77c59eee66)\" d=\"M 485.511045 454.318125 \nL 511.447904 454.318125 \nL 511.447904 292.685472 \nL 485.511045 292.685472 \nz\n\" style=\"fill:#1f77b4;\"/>\n   </g>\n   <g id=\"patch_21\">\n    <path clip-path=\"url(#p77c59eee66)\" d=\"M 514.329777 454.318125 \nL 540.266636 454.318125 \nL 540.266636 371.052819 \nL 514.329777 371.052819 \nz\n\" style=\"fill:#1f77b4;\"/>\n   </g>\n   <g id=\"patch_22\">\n    <path clip-path=\"url(#p77c59eee66)\" d=\"M 543.14851 454.318125 \nL 569.085369 454.318125 \nL 569.085369 434.726288 \nL 543.14851 434.726288 \nz\n\" style=\"fill:#1f77b4;\"/>\n   </g>\n   <g id=\"patch_23\">\n    <path clip-path=\"url(#p77c59eee66)\" d=\"M 571.967242 454.318125 \nL 597.904101 454.318125 \nL 597.904101 449.420166 \nL 571.967242 449.420166 \nz\n\" style=\"fill:#1f77b4;\"/>\n   </g>\n   <g id=\"matplotlib.axis_3\">\n    <g id=\"xtick_9\">\n     <g id=\"line2d_16\">\n      <g>\n       <use style=\"stroke:#000000;stroke-width:0.8;\" x=\"367.578405\" xlink:href=\"#mc49944bacc\" y=\"454.318125\"/>\n      </g>\n     </g>\n     <g id=\"text_17\">\n      <!-- 0 -->\n      <g transform=\"translate(370.33778 467.680625)rotate(-90)scale(0.1 -0.1)\">\n       <use xlink:href=\"#DejaVuSans-48\"/>\n      </g>\n     </g>\n    </g>\n    <g id=\"xtick_10\">\n     <g id=\"line2d_17\">\n      <g>\n       <use style=\"stroke:#000000;stroke-width:0.8;\" x=\"425.520063\" xlink:href=\"#mc49944bacc\" y=\"454.318125\"/>\n      </g>\n     </g>\n     <g id=\"text_18\">\n      <!-- 20 -->\n      <g transform=\"translate(428.279438 474.043125)rotate(-90)scale(0.1 -0.1)\">\n       <use xlink:href=\"#DejaVuSans-50\"/>\n       <use x=\"63.623047\" xlink:href=\"#DejaVuSans-48\"/>\n      </g>\n     </g>\n    </g>\n    <g id=\"xtick_11\">\n     <g id=\"line2d_18\">\n      <g>\n       <use style=\"stroke:#000000;stroke-width:0.8;\" x=\"483.461721\" xlink:href=\"#mc49944bacc\" y=\"454.318125\"/>\n      </g>\n     </g>\n     <g id=\"text_19\">\n      <!-- 40 -->\n      <g transform=\"translate(486.221096 474.043125)rotate(-90)scale(0.1 -0.1)\">\n       <use xlink:href=\"#DejaVuSans-52\"/>\n       <use x=\"63.623047\" xlink:href=\"#DejaVuSans-48\"/>\n      </g>\n     </g>\n    </g>\n    <g id=\"xtick_12\">\n     <g id=\"line2d_19\">\n      <g>\n       <use style=\"stroke:#000000;stroke-width:0.8;\" x=\"541.403379\" xlink:href=\"#mc49944bacc\" y=\"454.318125\"/>\n      </g>\n     </g>\n     <g id=\"text_20\">\n      <!-- 60 -->\n      <g transform=\"translate(544.162754 474.043125)rotate(-90)scale(0.1 -0.1)\">\n       <use xlink:href=\"#DejaVuSans-54\"/>\n       <use x=\"63.623047\" xlink:href=\"#DejaVuSans-48\"/>\n      </g>\n     </g>\n    </g>\n    <g id=\"xtick_13\">\n     <g id=\"line2d_20\">\n      <g>\n       <use style=\"stroke:#000000;stroke-width:0.8;\" x=\"599.345037\" xlink:href=\"#mc49944bacc\" y=\"454.318125\"/>\n      </g>\n     </g>\n     <g id=\"text_21\">\n      <!-- 80 -->\n      <g transform=\"translate(602.104412 474.043125)rotate(-90)scale(0.1 -0.1)\">\n       <use xlink:href=\"#DejaVuSans-56\"/>\n       <use x=\"63.623047\" xlink:href=\"#DejaVuSans-48\"/>\n      </g>\n     </g>\n    </g>\n   </g>\n   <g id=\"matplotlib.axis_4\">\n    <g id=\"ytick_8\">\n     <g id=\"line2d_21\">\n      <g>\n       <use style=\"stroke:#000000;stroke-width:0.8;\" x=\"358.852717\" xlink:href=\"#m85ebb3954f\" y=\"454.318125\"/>\n      </g>\n     </g>\n     <g id=\"text_22\">\n      <!-- 0 -->\n      <g transform=\"translate(345.490217 458.117344)scale(0.1 -0.1)\">\n       <use xlink:href=\"#DejaVuSans-48\"/>\n      </g>\n     </g>\n    </g>\n    <g id=\"ytick_9\">\n     <g id=\"line2d_22\">\n      <g>\n       <use style=\"stroke:#000000;stroke-width:0.8;\" x=\"358.852717\" xlink:href=\"#m85ebb3954f\" y=\"405.338533\"/>\n      </g>\n     </g>\n     <g id=\"text_23\">\n      <!-- 10 -->\n      <g transform=\"translate(339.127717 409.137752)scale(0.1 -0.1)\">\n       <use xlink:href=\"#DejaVuSans-49\"/>\n       <use x=\"63.623047\" xlink:href=\"#DejaVuSans-48\"/>\n      </g>\n     </g>\n    </g>\n    <g id=\"ytick_10\">\n     <g id=\"line2d_23\">\n      <g>\n       <use style=\"stroke:#000000;stroke-width:0.8;\" x=\"358.852717\" xlink:href=\"#m85ebb3954f\" y=\"356.358941\"/>\n      </g>\n     </g>\n     <g id=\"text_24\">\n      <!-- 20 -->\n      <g transform=\"translate(339.127717 360.15816)scale(0.1 -0.1)\">\n       <use xlink:href=\"#DejaVuSans-50\"/>\n       <use x=\"63.623047\" xlink:href=\"#DejaVuSans-48\"/>\n      </g>\n     </g>\n    </g>\n    <g id=\"ytick_11\">\n     <g id=\"line2d_24\">\n      <g>\n       <use style=\"stroke:#000000;stroke-width:0.8;\" x=\"358.852717\" xlink:href=\"#m85ebb3954f\" y=\"307.379349\"/>\n      </g>\n     </g>\n     <g id=\"text_25\">\n      <!-- 30 -->\n      <g transform=\"translate(339.127717 311.178568)scale(0.1 -0.1)\">\n       <use xlink:href=\"#DejaVuSans-51\"/>\n       <use x=\"63.623047\" xlink:href=\"#DejaVuSans-48\"/>\n      </g>\n     </g>\n    </g>\n    <g id=\"ytick_12\">\n     <g id=\"line2d_25\">\n      <g>\n       <use style=\"stroke:#000000;stroke-width:0.8;\" x=\"358.852717\" xlink:href=\"#m85ebb3954f\" y=\"258.399758\"/>\n      </g>\n     </g>\n     <g id=\"text_26\">\n      <!-- 40 -->\n      <g transform=\"translate(339.127717 262.198976)scale(0.1 -0.1)\">\n       <use xlink:href=\"#DejaVuSans-52\"/>\n       <use x=\"63.623047\" xlink:href=\"#DejaVuSans-48\"/>\n      </g>\n     </g>\n    </g>\n    <g id=\"ytick_13\">\n     <g id=\"line2d_26\">\n      <g>\n       <use style=\"stroke:#000000;stroke-width:0.8;\" x=\"358.852717\" xlink:href=\"#m85ebb3954f\" y=\"209.420166\"/>\n      </g>\n     </g>\n     <g id=\"text_27\">\n      <!-- 50 -->\n      <g transform=\"translate(339.127717 213.219385)scale(0.1 -0.1)\">\n       <use xlink:href=\"#DejaVuSans-53\"/>\n       <use x=\"63.623047\" xlink:href=\"#DejaVuSans-48\"/>\n      </g>\n     </g>\n    </g>\n    <g id=\"ytick_14\">\n     <g id=\"line2d_27\">\n      <g>\n       <use style=\"stroke:#000000;stroke-width:0.8;\" x=\"358.852717\" xlink:href=\"#m85ebb3954f\" y=\"160.440574\"/>\n      </g>\n     </g>\n     <g id=\"text_28\">\n      <!-- 60 -->\n      <g transform=\"translate(339.127717 164.239793)scale(0.1 -0.1)\">\n       <use xlink:href=\"#DejaVuSans-54\"/>\n       <use x=\"63.623047\" xlink:href=\"#DejaVuSans-48\"/>\n      </g>\n     </g>\n    </g>\n    <g id=\"ytick_15\">\n     <g id=\"line2d_28\">\n      <g>\n       <use style=\"stroke:#000000;stroke-width:0.8;\" x=\"358.852717\" xlink:href=\"#m85ebb3954f\" y=\"111.460982\"/>\n      </g>\n     </g>\n     <g id=\"text_29\">\n      <!-- 70 -->\n      <g transform=\"translate(339.127717 115.260201)scale(0.1 -0.1)\">\n       <use xlink:href=\"#DejaVuSans-55\"/>\n       <use x=\"63.623047\" xlink:href=\"#DejaVuSans-48\"/>\n      </g>\n     </g>\n    </g>\n    <g id=\"ytick_16\">\n     <g id=\"line2d_29\">\n      <g>\n       <use style=\"stroke:#000000;stroke-width:0.8;\" x=\"358.852717\" xlink:href=\"#m85ebb3954f\" y=\"62.48139\"/>\n      </g>\n     </g>\n     <g id=\"text_30\">\n      <!-- 80 -->\n      <g transform=\"translate(339.127717 66.280609)scale(0.1 -0.1)\">\n       <use xlink:href=\"#DejaVuSans-56\"/>\n       <use x=\"63.623047\" xlink:href=\"#DejaVuSans-48\"/>\n      </g>\n     </g>\n    </g>\n   </g>\n   <g id=\"patch_24\">\n    <path d=\"M 358.852717 454.318125 \nL 358.852717 22.318125 \n\" style=\"fill:none;stroke:#000000;stroke-linecap:square;stroke-linejoin:miter;stroke-width:0.8;\"/>\n   </g>\n   <g id=\"patch_25\">\n    <path d=\"M 609.2875 454.318125 \nL 609.2875 22.318125 \n\" style=\"fill:none;stroke:#000000;stroke-linecap:square;stroke-linejoin:miter;stroke-width:0.8;\"/>\n   </g>\n   <g id=\"patch_26\">\n    <path d=\"M 358.852717 454.318125 \nL 609.2875 454.318125 \n\" style=\"fill:none;stroke:#000000;stroke-linecap:square;stroke-linejoin:miter;stroke-width:0.8;\"/>\n   </g>\n   <g id=\"patch_27\">\n    <path d=\"M 358.852717 22.318125 \nL 609.2875 22.318125 \n\" style=\"fill:none;stroke:#000000;stroke-linecap:square;stroke-linejoin:miter;stroke-width:0.8;\"/>\n   </g>\n   <g id=\"text_31\">\n    <!-- 1 -->\n    <g transform=\"translate(480.252609 16.318125)scale(0.12 -0.12)\">\n     <use xlink:href=\"#DejaVuSans-49\"/>\n    </g>\n   </g>\n  </g>\n </g>\n <defs>\n  <clipPath id=\"p9957e8414c\">\n   <rect height=\"432\" width=\"250.434783\" x=\"33.2875\" y=\"22.318125\"/>\n  </clipPath>\n  <clipPath id=\"p77c59eee66\">\n   <rect height=\"432\" width=\"250.434783\" x=\"358.852717\" y=\"22.318125\"/>\n  </clipPath>\n </defs>\n</svg>\n",
            "text/plain": "<Figure size 720x576 with 2 Axes>"
          },
          "metadata": {
            "needs_background": "light"
          },
          "output_type": "display_data"
        }
      ],
      "source": [
        "import pandas as pd\n",
        "titanic_df = pd.read_csv(\"./Data_Sets/titanic/train.csv\")\n",
        "\n",
        "age_df = titanic_df[['Sex','Survived']].groupby(['Sex'], as_index = False).mean().sort_values(by=\"Survived\")\n",
        "titanic_df['AgeSpread'] = pd.cut(titanic_df['Age'], 15)\n",
        "#age_spread_survival = df[['AgeSpread', 'Survived']].groupby(['AgeSpread'], as_index = False).mean().sort_values(by='AgeSpread', ascending=True)\n",
        "#age_spread_survival.hist(column = 'AgeSpread')\n",
        "age_hist = titanic_df.hist(column='Age',by = \"Survived\",bins=8,grid=False,figsize=(10,8),rwidth = .9)\n",
        "               "
      ]
    },
    {
      "cell_type": "markdown",
      "metadata": {
        "colab_type": "text",
        "id": "NNNKBbr2MDqm"
      },
      "source": [
        "## Problem 2"
      ]
    },
    {
      "cell_type": "code",
      "execution_count": 18,
      "metadata": {},
      "outputs": [
        {
          "name": "stdout",
          "output_type": "stream",
          "text": "----Default Summary Statistics----\n\n              mpg   cylinders  displacement  horsepower       weight  \\\ncount  398.000000  398.000000    398.000000  392.000000   398.000000   \nmean    23.514573    5.454774    193.425879  104.469388  2970.424623   \nstd      7.815984    1.701004    104.269838   38.491160   846.841774   \nmin      9.000000    3.000000     68.000000   46.000000  1613.000000   \n25%     17.500000    4.000000    104.250000   75.000000  2223.750000   \n50%     23.000000    4.000000    148.500000   93.500000  2803.500000   \n75%     29.000000    8.000000    262.000000  126.000000  3608.000000   \nmax     46.600000    8.000000    455.000000  230.000000  5140.000000   \n\n       acceleration        year      origin  \ncount    398.000000  398.000000  398.000000  \nmean      15.568090   76.010050    1.572864  \nstd        2.757689    3.697627    0.802055  \nmin        8.000000   70.000000    1.000000  \n25%       13.825000   73.000000    1.000000  \n50%       15.500000   76.000000    1.000000  \n75%       17.175000   79.000000    2.000000  \nmax       24.800000   82.000000    3.000000  \n\nDefault Variance: 1481.5693929745862\n\n----Mean Replaced Summary Statistics----\n\n              mpg   cylinders  displacement  horsepower       weight  \\\ncount  398.000000  398.000000    398.000000  398.000000   398.000000   \nmean    23.514573    5.454774    193.425879  104.469388  2970.424623   \nstd      7.815984    1.701004    104.269838   38.199187   846.841774   \nmin      9.000000    3.000000     68.000000   46.000000  1613.000000   \n25%     17.500000    4.000000    104.250000   76.000000  2223.750000   \n50%     23.000000    4.000000    148.500000   95.000000  2803.500000   \n75%     29.000000    8.000000    262.000000  125.000000  3608.000000   \nmax     46.600000    8.000000    455.000000  230.000000  5140.000000   \n\n       acceleration        year      origin  \ncount    398.000000  398.000000  398.000000  \nmean      15.568090   76.010050    1.572864  \nstd        2.757689    3.697627    0.802055  \nmin        8.000000   70.000000    1.000000  \n25%       13.825000   73.000000    1.000000  \n50%       15.500000   76.000000    1.000000  \n75%       17.175000   79.000000    2.000000  \nmax       24.800000   82.000000    3.000000  \n\nMean Replaced Variance: 1459.1779160026776\n\n----Mean Replaced Summary Statistics----\n\n              mpg   cylinders  displacement  horsepower       weight  \\\ncount  398.000000  398.000000    398.000000  398.000000   398.000000   \nmean    23.514573    5.454774    193.425879  104.304020  2970.424623   \nstd      7.815984    1.701004    104.269838   38.222625   846.841774   \nmin      9.000000    3.000000     68.000000   46.000000  1613.000000   \n25%     17.500000    4.000000    104.250000   76.000000  2223.750000   \n50%     23.000000    4.000000    148.500000   93.500000  2803.500000   \n75%     29.000000    8.000000    262.000000  125.000000  3608.000000   \nmax     46.600000    8.000000    455.000000  230.000000  5140.000000   \n\n       acceleration        year      origin  \ncount    398.000000  398.000000  398.000000  \nmean      15.568090   76.010050    1.572864  \nstd        2.757689    3.697627    0.802055  \nmin        8.000000   70.000000    1.000000  \n25%       13.825000   73.000000    1.000000  \n50%       15.500000   76.000000    1.000000  \n75%       17.175000   79.000000    2.000000  \nmax       24.800000   82.000000    3.000000  \n\nMedian Replaced Variance: 1460.96905180816\n\n----Mean Replaced Summary Statistics----\n\n              mpg   cylinders  displacement  horsepower       weight  \\\ncount  398.000000  398.000000    398.000000  398.000000   398.000000   \nmean    23.514573    5.454774    193.425879  105.155779  2970.424623   \nstd      7.815984    1.701004    104.269838   38.600986   846.841774   \nmin      9.000000    3.000000     68.000000   46.000000  1613.000000   \n25%     17.500000    4.000000    104.250000   76.000000  2223.750000   \n50%     23.000000    4.000000    148.500000   95.000000  2803.500000   \n75%     29.000000    8.000000    262.000000  130.000000  3608.000000   \nmax     46.600000    8.000000    455.000000  230.000000  5140.000000   \n\n       acceleration        year      origin  \ncount    398.000000  398.000000  398.000000  \nmean      15.568090   76.010050    1.572864  \nstd        2.757689    3.697627    0.802055  \nmin        8.000000   70.000000    1.000000  \n25%       13.825000   73.000000    1.000000  \n50%       15.500000   76.000000    1.000000  \n75%       17.175000   79.000000    2.000000  \nmax       24.800000   82.000000    3.000000  \n\nMode Replaced Variance: 1490.0361252104324\n"
        }
      ],
      "source": [
        "import pandas as pd\n",
        "import numpy as np\n",
        "from sklearn.impute import SimpleImputer\n",
        "\n",
        "#Names Attributes\n",
        "column_names = ['mpg', 'cylinders', 'displacement', 'horsepower', 'weight', 'acceleration', 'year', 'origin', 'name']\n",
        "auto_df = pd.read_csv(\"./Data_Sets/auto_mpg/auto-mpg.data\", delim_whitespace=True, names=column_names)\n",
        "auto_df.head()\n",
        "\n",
        "#Finds missing HP's and replaces with numpy NaN\n",
        "missing_hp = auto_df[auto_df.horsepower == '?'].index\n",
        "auto_df.loc[missing_hp]\n",
        "auto_df.loc[missing_hp, 'horsepower'] = np.nan\n",
        "auto_df.horsepower  = auto_df.horsepower.apply(pd.to_numeric)\n",
        "\n",
        "print(\"----Default Summary Statistics----\\n\")\n",
        "print(auto_df.describe())\n",
        "print(\"\\nDefault Variance: \" + str(auto_df.loc[:,'horsepower'].var()))\n",
        "#Make 3 seperate imputers\n",
        "mean_imputer =   SimpleImputer(missing_values = np.nan, strategy = 'mean')\n",
        "median_imputer = SimpleImputer(missing_values = np.nan, strategy = 'median')\n",
        "mode_imputer =   SimpleImputer(missing_values = np.nan, strategy = 'most_frequent')\n",
        "\n",
        "# Impute with mean and print summary\n",
        "imputed_mean_df = auto_df.copy()\n",
        "imputed_mean_df['horsepower'] = (mean_imputer.fit_transform(auto_df[['horsepower']])).ravel()\n",
        "\n",
        "\n",
        "print(\"\\n----Mean Replaced Summary Statistics----\\n\")\n",
        "print(imputed_mean_df.describe())\n",
        "print(\"\\nMean Replaced Variance: \" + str(imputed_mean_df.loc[:,'horsepower'].var()))\n",
        "\n",
        "# Impute with median and print summary\n",
        "imputed_median_df = auto_df.copy()\n",
        "imputed_median_df['horsepower'] = (median_imputer.fit_transform(auto_df[['horsepower']])).ravel()\n",
        "\n",
        "\n",
        "print(\"\\n----Mean Replaced Summary Statistics----\\n\")\n",
        "print(imputed_median_df.describe())\n",
        "print(\"\\nMedian Replaced Variance: \" + str(imputed_median_df.loc[:,'horsepower'].var()))\n",
        "\n",
        "# Impute with mode and print summary\n",
        "imputed_mode_df = auto_df.copy()\n",
        "imputed_mode_df['horsepower'] = (mode_imputer.fit_transform(auto_df[['horsepower']])).ravel()\n",
        "\n",
        "print(\"\\n----Mean Replaced Summary Statistics----\\n\")\n",
        "print(imputed_mode_df.describe())\n",
        "print(\"\\nMode Replaced Variance: \" + str(imputed_mode_df.loc[:,'horsepower'].var()))\n"
      ]
    },
    {
      "cell_type": "markdown",
      "execution_count": null,
      "metadata": {},
      "outputs": [],
      "source": [
        "The mean imputation resulted in the least variance which makes sense because variance is the distance from the mean, and the distance of the mean from itself is zero.<br>\n",
        "A different method of imputing that could be more accurate is Mulitple Imputation which better imputes when data is randomly missing as is our case with horsepower.<br>\n",
        "Multiple Imputation means imputed values are drawn multiple times from a distribution rather than just once, at the end each of the produced data sets is analyzed and then they are consolidated into one result by getting the mean of all the imputed values.\n"
      ]
    },
    {
      "cell_type": "markdown",
      "execution_count": 66,
      "metadata": {},
      "outputs": [],
      "source": [
        "## Problem 3"
      ]
    },
    {
      "cell_type": "code",
      "execution_count": 43,
      "metadata": {},
      "outputs": [
        {
          "name": "stdout",
          "output_type": "stream",
          "text": "PCA Obtained Variance Information: [0.72770452 0.23030523]\nOriginal Variance Information: sepal length    0.685694\nsepal width     0.188004\npetal length    3.113179\npetal width     0.582414\ndtype: float64\n"
        }
      ],
      "source": [
        "import pandas as pd\n",
        "from sklearn.decomposition import PCA\n",
        "from sklearn.preprocessing import StandardScaler\n",
        "import matplotlib.pyplot as plt\n",
        "\n",
        "iris_df = pd.read_csv(\"./Data_Sets/iris/iris.data\", names = ['sepal length', 'sepal width', 'petal length', 'petal width','species'])\n",
        "\n",
        "feats = ['sepal length', 'sepal width', 'petal length', 'petal width']\n",
        "\n",
        "#Seperate the features\n",
        "x = iris_df.loc[:, feats].values\n",
        "\n",
        "#Seperate Target\n",
        "y = iris_df.loc[:,['species']].values\n",
        "\n",
        "# Standardizing the features\n",
        "\n",
        "x = StandardScaler().fit_transform(x)\n",
        "\n",
        "iris_pca = PCA(n_components=2)\n",
        "princ_components = iris_pca.fit_transform(x)\n",
        "\n",
        "princ_df = pd.DataFrame(data = princ_components\n",
        "             , columns = ['Principal Component 1', 'Principal Component 2'])\n",
        "\n",
        "finalDf = pd.concat([princ_df, iris_df[['species']]], axis = 1)\n",
        "\n",
        "print(\"PCA Obtained Variance Information: \" + str(iris_pca.explained_variance_ratio_))\n",
        "\n",
        "print(\"Original Variance Information: \" + str(iris_df.var()))"
      ]
    },
    {
      "cell_type": "markdown",
      "execution_count": null,
      "metadata": {},
      "outputs": [],
      "source": [
        "We see that the first principle component has 72.770 percent of the variance information and the second principle component has 23.031 percent of the variance info for a total of 95.801 percent of the total variance.<br>\n"
      ]
    },
    {
      "cell_type": "markdown",
      "execution_count": null,
      "metadata": {},
      "outputs": [],
      "source": [
        "## Problem 4"
      ]
    },
    {
      "cell_type": "code",
      "execution_count": null,
      "metadata": {},
      "outputs": [],
      "source": []
    }
  ]
}